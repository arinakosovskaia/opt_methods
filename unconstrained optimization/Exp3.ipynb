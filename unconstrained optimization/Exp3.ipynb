{
  "cells": [
    {
      "cell_type": "code",
      "execution_count": 19,
      "metadata": {
        "id": "PwgCBp8iKhj5"
      },
      "outputs": [],
      "source": [
        "import numpy as np\n",
        "import matplotlib.pyplot as plt\n",
        "\n",
        "import oracles\n",
        "from oracles import create_log_reg_oracle\n",
        "from optimization import gradient_descent, newton"
      ]
    },
    {
      "cell_type": "code",
      "source": [
        "!wget https://www.csie.ntu.edu.tw/~cjlin/libsvmtools/datasets/binary/w8a\n",
        "!wget https://www.csie.ntu.edu.tw/~cjlin/libsvmtools/datasets/binary/gisette_scale.bz2\n",
        "!wget https://www.csie.ntu.edu.tw/~cjlin/libsvmtools/datasets/binary/real-sim.bz2\n",
        "!wget https://www.csie.ntu.edu.tw/~cjlin/libsvmtools/datasets/binary/news20.binary.bz2\n",
        "!wget https://www.csie.ntu.edu.tw/~cjlin/libsvmtools/datasets/binary/rcv1_train.binary.bz2\n",
        "!bzip2 -d gisette_scale.bz2\n",
        "!bzip2 -d real-sim.bz2\n",
        "!bzip2 -d news20.binary.bz2\n",
        "!bzip2 -d rcv1_train.binary.bz2"
      ],
      "metadata": {
        "colab": {
          "base_uri": "https://localhost:8080/"
        },
        "id": "xkvlW9RgLWW_",
        "outputId": "6e482d2d-bf57-46c5-c8d7-3163620e48de"
      },
      "execution_count": 20,
      "outputs": [
        {
          "output_type": "stream",
          "name": "stdout",
          "text": [
            "--2022-03-01 01:30:52--  https://www.csie.ntu.edu.tw/~cjlin/libsvmtools/datasets/binary/w8a\n",
            "Resolving www.csie.ntu.edu.tw (www.csie.ntu.edu.tw)... 140.112.30.26\n",
            "Connecting to www.csie.ntu.edu.tw (www.csie.ntu.edu.tw)|140.112.30.26|:443... connected.\n",
            "HTTP request sent, awaiting response... 200 OK\n",
            "Length: 3478238 (3.3M)\n",
            "Saving to: ‘w8a.1’\n",
            "\n",
            "w8a.1               100%[===================>]   3.32M  3.41MB/s    in 1.0s    \n",
            "\n",
            "2022-03-01 01:30:54 (3.41 MB/s) - ‘w8a.1’ saved [3478238/3478238]\n",
            "\n",
            "--2022-03-01 01:30:54--  https://www.csie.ntu.edu.tw/~cjlin/libsvmtools/datasets/binary/gisette_scale.bz2\n",
            "Resolving www.csie.ntu.edu.tw (www.csie.ntu.edu.tw)... 140.112.30.26\n",
            "Connecting to www.csie.ntu.edu.tw (www.csie.ntu.edu.tw)|140.112.30.26|:443... connected.\n",
            "HTTP request sent, awaiting response... 200 OK\n",
            "Length: 21902461 (21M) [application/x-bzip2]\n",
            "Saving to: ‘gisette_scale.bz2’\n",
            "\n",
            "gisette_scale.bz2   100%[===================>]  20.89M  10.9MB/s    in 1.9s    \n",
            "\n",
            "2022-03-01 01:30:56 (10.9 MB/s) - ‘gisette_scale.bz2’ saved [21902461/21902461]\n",
            "\n",
            "--2022-03-01 01:30:57--  https://www.csie.ntu.edu.tw/~cjlin/libsvmtools/datasets/binary/real-sim.bz2\n",
            "Resolving www.csie.ntu.edu.tw (www.csie.ntu.edu.tw)... 140.112.30.26\n",
            "Connecting to www.csie.ntu.edu.tw (www.csie.ntu.edu.tw)|140.112.30.26|:443... connected.\n",
            "HTTP request sent, awaiting response... 200 OK\n",
            "Length: 35214832 (34M) [application/x-bzip2]\n",
            "Saving to: ‘real-sim.bz2’\n",
            "\n",
            "real-sim.bz2        100%[===================>]  33.58M  13.3MB/s    in 2.5s    \n",
            "\n",
            "2022-03-01 01:31:00 (13.3 MB/s) - ‘real-sim.bz2’ saved [35214832/35214832]\n",
            "\n",
            "--2022-03-01 01:31:00--  https://www.csie.ntu.edu.tw/~cjlin/libsvmtools/datasets/binary/news20.binary.bz2\n",
            "Resolving www.csie.ntu.edu.tw (www.csie.ntu.edu.tw)... 140.112.30.26\n",
            "Connecting to www.csie.ntu.edu.tw (www.csie.ntu.edu.tw)|140.112.30.26|:443... connected.\n",
            "HTTP request sent, awaiting response... 200 OK\n",
            "Length: 26779006 (26M) [application/x-bzip2]\n",
            "Saving to: ‘news20.binary.bz2’\n",
            "\n",
            "news20.binary.bz2   100%[===================>]  25.54M  11.9MB/s    in 2.1s    \n",
            "\n",
            "2022-03-01 01:31:03 (11.9 MB/s) - ‘news20.binary.bz2’ saved [26779006/26779006]\n",
            "\n",
            "--2022-03-01 01:31:03--  https://www.csie.ntu.edu.tw/~cjlin/libsvmtools/datasets/binary/rcv1_train.binary.bz2\n",
            "Resolving www.csie.ntu.edu.tw (www.csie.ntu.edu.tw)... 140.112.30.26\n",
            "Connecting to www.csie.ntu.edu.tw (www.csie.ntu.edu.tw)|140.112.30.26|:443... connected.\n",
            "HTTP request sent, awaiting response... 200 OK\n",
            "Length: 13730096 (13M) [application/x-bzip2]\n",
            "Saving to: ‘rcv1_train.binary.bz2’\n",
            "\n",
            "rcv1_train.binary.b 100%[===================>]  13.09M  8.68MB/s    in 1.5s    \n",
            "\n",
            "2022-03-01 01:31:05 (8.68 MB/s) - ‘rcv1_train.binary.bz2’ saved [13730096/13730096]\n",
            "\n",
            "bzip2: Output file gisette_scale already exists.\n",
            "bzip2: Output file real-sim already exists.\n",
            "bzip2: Output file news20.binary already exists.\n",
            "bzip2: Output file rcv1_train.binary already exists.\n"
          ]
        }
      ]
    },
    {
      "cell_type": "code",
      "source": [
        "from joblib import Memory\n",
        "from sklearn.datasets import load_svmlight_file\n",
        "mem = Memory(\"./mycache\")\n",
        "\n",
        "data = [\"w8a\", \"gisette_scale\", \"real-sim\", \"news20.binary\", \"rcv1_train.binary\"]\n",
        "\n",
        "@mem.cache\n",
        "def get_data(name):\n",
        "    data = load_svmlight_file(name)\n",
        "    return data[0], data[1]\n",
        "\n",
        "for d in data:\n",
        "    X, y = get_data(d)\n",
        "    display(X)"
      ],
      "metadata": {
        "colab": {
          "base_uri": "https://localhost:8080/",
          "height": 527
        },
        "id": "SkN95766LnbR",
        "outputId": "c576137e-8e8c-4567-a196-bce0f2fbd5ea"
      },
      "execution_count": 7,
      "outputs": [
        {
          "output_type": "stream",
          "name": "stdout",
          "text": [
            "________________________________________________________________________________\n",
            "[Memory] Calling __main__--content-<ipython-input-b37b6b632cf0>.get_data...\n",
            "get_data('w8a')\n",
            "_________________________________________________________get_data - 0.3s, 0.0min\n"
          ]
        },
        {
          "output_type": "display_data",
          "data": {
            "text/plain": [
              "<49749x300 sparse matrix of type '<class 'numpy.float64'>'\n",
              "\twith 579586 stored elements in Compressed Sparse Row format>"
            ]
          },
          "metadata": {}
        },
        {
          "output_type": "stream",
          "name": "stdout",
          "text": [
            "________________________________________________________________________________\n",
            "[Memory] Calling __main__--content-<ipython-input-b37b6b632cf0>.get_data...\n",
            "get_data('gisette_scale')\n",
            "________________________________________________________get_data - 17.3s, 0.3min\n"
          ]
        },
        {
          "output_type": "display_data",
          "data": {
            "text/plain": [
              "<6000x5000 sparse matrix of type '<class 'numpy.float64'>'\n",
              "\twith 29729997 stored elements in Compressed Sparse Row format>"
            ]
          },
          "metadata": {}
        },
        {
          "output_type": "stream",
          "name": "stdout",
          "text": [
            "________________________________________________________________________________\n",
            "[Memory] Calling __main__--content-<ipython-input-b37b6b632cf0>.get_data...\n",
            "get_data('real-sim')\n",
            "_________________________________________________________get_data - 3.3s, 0.1min\n"
          ]
        },
        {
          "output_type": "display_data",
          "data": {
            "text/plain": [
              "<72309x20958 sparse matrix of type '<class 'numpy.float64'>'\n",
              "\twith 3709083 stored elements in Compressed Sparse Row format>"
            ]
          },
          "metadata": {}
        },
        {
          "output_type": "stream",
          "name": "stdout",
          "text": [
            "________________________________________________________________________________\n",
            "[Memory] Calling __main__--content-<ipython-input-b37b6b632cf0>.get_data...\n",
            "get_data('news20.binary')\n",
            "_________________________________________________________get_data - 6.1s, 0.1min\n"
          ]
        },
        {
          "output_type": "display_data",
          "data": {
            "text/plain": [
              "<19996x1355191 sparse matrix of type '<class 'numpy.float64'>'\n",
              "\twith 9097916 stored elements in Compressed Sparse Row format>"
            ]
          },
          "metadata": {}
        },
        {
          "output_type": "stream",
          "name": "stdout",
          "text": [
            "________________________________________________________________________________\n",
            "[Memory] Calling __main__--content-<ipython-input-b37b6b632cf0>.get_data...\n",
            "get_data('rcv1_train.binary')\n",
            "_________________________________________________________get_data - 1.1s, 0.0min\n"
          ]
        },
        {
          "output_type": "display_data",
          "data": {
            "text/plain": [
              "<20242x47236 sparse matrix of type '<class 'numpy.float64'>'\n",
              "\twith 1498952 stored elements in Compressed Sparse Row format>"
            ]
          },
          "metadata": {}
        }
      ]
    },
    {
      "cell_type": "code",
      "source": [
        "from sklearn.model_selection import train_test_split\n",
        "\n",
        "X, y = get_data(\"w8a\")\n",
        "X_train, X_test, y_train, y_test = train_test_split(X, y, test_size=0.5, random_state=41)"
      ],
      "metadata": {
        "id": "qc_Vr7qzlrWk"
      },
      "execution_count": 8,
      "outputs": []
    },
    {
      "cell_type": "code",
      "source": [
        "epsilons = [1, 1e-1, 1e-2, 1e-3, 1e-4, 1e-5, 1e-6, 1e-7, 1e-8]\n",
        "error1 = []\n",
        "x0 = np.zeros(X_train.shape[1])\n",
        "l = 1. / X_train.shape[1]\n",
        "oracle = create_log_reg_oracle(X_train, y_train, l)\n",
        "for epsilon in epsilons:\n",
        "  x_opt, message, history = newton(oracle, x0, tolerance=epsilon, trace=True)\n",
        "  b_test_hat = np.sign(X_test.dot(x_opt))\n",
        "  error1.append(np.mean(b_test_hat != y_test))"
      ],
      "metadata": {
        "id": "G4ePYmcQmDlI"
      },
      "execution_count": 22,
      "outputs": []
    },
    {
      "cell_type": "code",
      "source": [
        "X, y = get_data(\"gisette_scale\")\n",
        "X_train, X_test, y_train, y_test = train_test_split(X, y, test_size=0.5, random_state=41)"
      ],
      "metadata": {
        "id": "l22XbFfxnBoV"
      },
      "execution_count": 16,
      "outputs": []
    },
    {
      "cell_type": "code",
      "source": [
        "error2 = []\n",
        "x0 = np.zeros(X_train.shape[1])\n",
        "l = 1. / X_train.shape[1]\n",
        "oracle = create_log_reg_oracle(X_train, y_train, l)\n",
        "for epsilon in epsilons:\n",
        "  x_opt, message, history = newton(oracle, x0, tolerance=epsilon, trace=True)\n",
        "  b_test_hat = np.sign(X_test.dot(x_opt))\n",
        "  error2.append(np.mean(b_test_hat != y_test))"
      ],
      "metadata": {
        "id": "ruSoggv9mtb9"
      },
      "execution_count": 17,
      "outputs": []
    },
    {
      "cell_type": "code",
      "source": [
        "fig, ax = plt.subplots(figsize=(8, 5))\n",
        "\n",
        "ax.plot(epsilons, error1, label='dataset: w8a')\n",
        "ax.plot(epsilons, error2, label='dataset: gisette_scale')\n",
        "ax.grid()\n",
        "\n",
        "ax.set(\n",
        "    xscale='log',\n",
        "    xlabel='Точность оптимизации',\n",
        "    ylabel='Среднее число ошибок',\n",
        "    title='График зависимости процента ошибок против точности оптимизации'\n",
        ");\n",
        "\n",
        "ax.legend()\n",
        "plt.savefig(\"exp3\", bbox_inches=\"tight\")"
      ],
      "metadata": {
        "colab": {
          "base_uri": "https://localhost:8080/",
          "height": 354
        },
        "id": "DdVpJu0zmSHA",
        "outputId": "0fd8d399-9101-4005-cd4c-256055e86c8e"
      },
      "execution_count": 18,
      "outputs": [
        {
          "output_type": "display_data",
          "data": {
            "image/png": "[encoded data removed]",
            "text/plain": [
              "<Figure size 576x360 with 1 Axes>"
            ]
          },
          "metadata": {
            "needs_background": "light"
          }
        }
      ]
    }
  ],
  "metadata": {
    "kernelspec": {
      "display_name": "Python 3",
      "language": "python",
      "name": "python3"
    },
    "language_info": {
      "codemirror_mode": {
        "name": "ipython",
        "version": 3
      },
      "file_extension": ".py",
      "mimetype": "text/x-python",
      "name": "python",
      "nbconvert_exporter": "python",
      "pygments_lexer": "ipython3",
      "version": "3.8.5"
    },
    "colab": {
      "name": "Эксперимент 3.ipynb",
      "provenance": []
    }
  },
  "nbformat": 4,
  "nbformat_minor": 0
}